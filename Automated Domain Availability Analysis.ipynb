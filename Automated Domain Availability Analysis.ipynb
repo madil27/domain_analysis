{
 "cells": [
  {
   "cell_type": "markdown",
   "metadata": {},
   "source": [
    "# Automated Domain Availability Analysis\n",
    "\n",
    "In this notebook, we apply simple fitering techniques to identify a domain as available and unavailable. We further sub-classify the unavailble domains based on the http response code and the html pages returned "
   ]
  },
  {
   "cell_type": "markdown",
   "metadata": {},
   "source": [
    "## Basic Filtering Technique Used\n",
    "\n",
    "- We used the standard urllib library in python to make a request to the webpage and get back the initial reponse. \n",
    "- We perform a basic initial filter. If the initial response is error 404, we mark the domain as invalid. If the initial reponse is anything other than 200, we mark the domain as unavailable along with the corresponding response code.\n",
    "\n",
    "- If the response code is 200, we parse the entire page using beautiful soup and based on some insights mark the domains as available or for sale.\n",
    "\n",
    "### Identifying the domais for sale using a parser (beautiful soup)\n",
    "\n",
    "After going through a number of avaiable and for sale domains the important observations are:\n",
    "    \n",
    "- The domains for sale have in almost all the cases no <b>internal links</b> on the entire landing page. Whereas the available domains have a number of internal links present. \n",
    "<br> <b>Note: </b> Internal Links are the one of the same domain. \n",
    "- The domains for sale have a for sale banner on them.\n",
    "- The doamains for sale have a smaller size.\n",
    "\n",
    "\n",
    "I analysed both available and unavailable domains and the major observations are:\n",
    "- key words like 'sale' are not a good indictor as this word commonly occurs on available websites as well.\n",
    "- Page Size is relatively small  in for sale domains\n",
    "- Number of Internal links is the best indicator as all the for sale domains observed had no internal links at all. \n",
    "\n",
    "Therefore, as of now, we just use the links to identify a domain as availble or for sale.\n",
    "\n",
    "#### Storing the Results:\n",
    "\n",
    "We store the results in the form of a dictionary.\n",
    "The key is the domain under analysis.\n",
    "The value is a tuple (x,y) where x is the status code returned e.g 200,203 and y is the explanatory comment e.g domain for sale etc.\n",
    "\n",
    "For Example \n",
    "{\n",
    "\"sevendollarclick.com\" : (200, domain available),\n",
    "\"symbux.com\" : (200, domain for sale)\n",
    "}\n"
   ]
  },
  {
   "cell_type": "code",
   "execution_count": 1,
   "metadata": {},
   "outputs": [],
   "source": [
    "import urllib.request\n",
    "from bs4 import BeautifulSoup, SoupStrainer\n",
    "import re\n",
    "\n",
    "domain_label = {}"
   ]
  },
  {
   "cell_type": "markdown",
   "metadata": {},
   "source": [
    "The main function that classifies the domains is given below:"
   ]
  },
  {
   "cell_type": "code",
   "execution_count": 2,
   "metadata": {},
   "outputs": [],
   "source": [
    "def classifier(domain_name):\n",
    "    global domain_label\n",
    "    links = []\n",
    "    tlinks = []\n",
    "    try:\n",
    "        with urllib.request.urlopen(\"http://\" + domain_name) as url:\n",
    "            s = url.getcode()\n",
    "            if not s == 200:\n",
    "                domain_label[domain_name] = (s, \"domain unavaiable with status code \" + str(s))\n",
    "            else:\n",
    "                soup = BeautifulSoup(url)\n",
    "                for link in soup.findAll('a', attrs={'href': re.compile(domain_name)}):\n",
    "                    links.append(link.get('href'))\n",
    "                for link in soup.findAll('a', attrs={'href': re.compile('/')}):\n",
    "                    tlinks.append(link.get('href'))\n",
    "                for x in tlinks:\n",
    "                    if not (\"http\" in x or \".com\" in x or \"www.\" in x or len(x) < 2):\n",
    "                        links.append(x)\n",
    "                total_internal_links = len(links)\n",
    "                if (total_internal_links > 2):\n",
    "                    domain_label[domain_name] = (s, \"domain available\")\n",
    "                else:\n",
    "                    domain_label[domain_name] = (s, \"domain for sale or not hosted anymore\")\t\n",
    "\n",
    "    except:\n",
    "        if domain_label[domain_name] == (0,'null'): \n",
    "            domain_label[domain_name] = (404, \"domain not reachable or invalid\")"
   ]
  },
  {
   "cell_type": "markdown",
   "metadata": {},
   "source": [
    "### Testing our approach\n",
    "Now we perform a basic testing of our approach. \n",
    "For this purpose I pick 25 domains and check my approach \n",
    "- 10 completely working available domain\n",
    "- 7 domains with status code 200 but for sale\n",
    "- 2 invalid domains (since easily detectable) "
   ]
  },
  {
   "cell_type": "code",
   "execution_count": 3,
   "metadata": {},
   "outputs": [
    {
     "data": {
      "text/plain": [
       "{'sevendollarclick.com': (200, 'domain available'),\n",
       " 'fourdollarclick.com': (200, 'domain available'),\n",
       " 'paidverts.com': (200, 'domain available'),\n",
       " 'tv-two.com': (200, 'domain available'),\n",
       " 'tylerpratt.com': (200, 'domain available'),\n",
       " 'cuturl.in': (200, 'domain available'),\n",
       " 'clixsense.com': (200, 'domain available'),\n",
       " 'andyhaffel.com': (404, 'domain not reachable or invalid'),\n",
       " 'bestptc.org': (200, 'domain available'),\n",
       " 'probux.com': (200, 'domain for sale or not hosted anymore'),\n",
       " 'symbux.com': (200, 'domain for sale or not hosted anymore'),\n",
       " 'profitclicking.com': (200, 'domain for sale or not hosted anymore'),\n",
       " 'buxp.com': (200, 'domain for sale or not hosted anymore'),\n",
       " 'buxcap.com': (200, 'domain for sale or not hosted anymore'),\n",
       " 'no1tip.com': (200, 'domain for sale or not hosted anymore'),\n",
       " 'getlink.pw': (200, 'domain for sale or not hosted anymore'),\n",
       " 'thepocketmoney.online': (200, 'domain for sale or not hosted anymore'),\n",
       " 't.me': (404, 'domain not reachable or invalid'),\n",
       " 'hits4pay.com': (404, 'domain not reachable or invalid')}"
      ]
     },
     "execution_count": 3,
     "metadata": {},
     "output_type": "execute_result"
    }
   ],
   "source": [
    "available_domains = [\"sevendollarclick.com\" , \"fourdollarclick.com\" , \"paidverts.com\",\"tv-two.com\", \"tylerpratt.com\", \"cuturl.in\", \"clixsense.com\", \"andyhaffel.com\", \"bestptc.org\", \"probux.com\"]\n",
    "for_sale_domains = [\"symbux.com\", \"profitclicking.com\", \"buxp.com\",\"buxcap.com\", \"no1tip.com\", \"getlink.pw\", \"thepocketmoney.online\"]\n",
    "invalid_domains = [\"t.me\", \"hits4pay.com\"]\n",
    "\n",
    "\n",
    " #Initialising my output dictionary\n",
    "for x in available_domains:\n",
    "    domain_label[x] = (0,'null')\n",
    "for x in for_sale_domains:\n",
    "    domain_label[x] = (0,'null')    \n",
    "for x in invalid_domains:\n",
    "    domain_label[x] = (0,'null')  \n",
    "\n",
    "    \n",
    "for x in available_domains:\n",
    "    classifier(x)\n",
    "for x in for_sale_domains:\n",
    "    classifier(x)    \n",
    "for x in invalid_domains:\n",
    "    classifier(x)     \n",
    "    \n",
    "domain_label    "
   ]
  },
  {
   "cell_type": "markdown",
   "metadata": {},
   "source": [
    "#### Conclusion:\n",
    "   It can be observed that even this approach correctly classifies the domains in most cases."
   ]
  }
 ],
 "metadata": {
  "kernelspec": {
   "display_name": "Python 3",
   "language": "python",
   "name": "python3"
  },
  "language_info": {
   "codemirror_mode": {
    "name": "ipython",
    "version": 3
   },
   "file_extension": ".py",
   "mimetype": "text/x-python",
   "name": "python",
   "nbconvert_exporter": "python",
   "pygments_lexer": "ipython3",
   "version": "3.7.0"
  }
 },
 "nbformat": 4,
 "nbformat_minor": 2
}
