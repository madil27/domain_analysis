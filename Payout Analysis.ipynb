{
 "cells": [
  {
   "cell_type": "markdown",
   "metadata": {},
   "source": [
    "# Payout Mechanism Analysis\n",
    "\n",
    "The basic approach used in this case is to scrape the entire website recurisvely and look for keywords such as 'paypal' , 'paytm' etc in the entire website to detect the payout mechanisms claimed by the website \n",
    "\n",
    "## Two-Step Process\n",
    "\n",
    " - In the first step, a scrapper recursively downloads the entire website (HTML content only).\n",
    " - In the second step, a parser parses the entire website to look for payment methods.\n",
    "\n",
    "### Limitations\n",
    "  - One of the major limitation is the time it takes to download the entire website recursively.\n",
    "  \n",
    "### Scrapper:\n",
    " The scarpper uses <B> Wget </B> to download the entire website recursively. The command used here is:\n",
    "- wget --recursive --no-clobber --html-extension --convert-links --restrict-file-names=windows --domains website.com --no-parent http://www.website.com\n",
    "  "
   ]
  },
  {
   "cell_type": "code",
   "execution_count": 1,
   "metadata": {},
   "outputs": [],
   "source": [
    "import os"
   ]
  },
  {
   "cell_type": "code",
   "execution_count": 2,
   "metadata": {},
   "outputs": [],
   "source": [
    "success_count = 0\n",
    "fail_count = 0\n",
    "\n",
    "def scrap(web):\n",
    "    #os.system(\"clear\")\n",
    "    global success_count\n",
    "    global fail_count\n",
    "    wget = \"wget \" \n",
    "    flags = \"--recursive --no-clobber --html-extension --convert-links --restrict-file-names=windows \"\n",
    "    domain = \" --domains \" + web + \" --no-parent https://\" + web\n",
    "    query = wget + flags + domain \n",
    "    try:\n",
    "        os.system(query)\n",
    "        success_count += 1\n",
    "    except:\n",
    "#         print(\"error \" + web)\n",
    "        fail_count += 1   "
   ]
  },
  {
   "cell_type": "code",
   "execution_count": 3,
   "metadata": {},
   "outputs": [],
   "source": [
    "scrap(\"sevendollarclick.com\")"
   ]
  },
  {
   "cell_type": "markdown",
   "metadata": {},
   "source": [
    "### Parser\n",
    "\n",
    "Now, we run the parser to look for keywords. The keywords or payment methods searched for are :\n",
    "<b><br> \"payoneer\", \"tango\", \"dwolla\", \"skrill\", \"litecoin\"\n",
    ",\"bitcoin\", \"airtm\",\"paytm\", \"payeer\", \"paypal\", \"neteller\" <br></b>\n",
    "\n",
    "These keywords can be increased with time.\n",
    "\n",
    "### Results:\n",
    " I keep a dictionary pf dictionaries in the following format to store my results. \n",
    " The outer key is the domain name. The value of this outer key is a dictionary with key,value pairs (x,y) where x is the payment method and y is the label which can be 'y' (yes) or 'n' (no) \n",
    " \n",
    "<br>{\n",
    "<br>\"domain\" : \n",
    "<br>     {\n",
    "<br>        paypal : 'y',\n",
    "<br>       bitcoin : 'y',\n",
    "<br>       paytm : 'n'\n",
    "<br>       ..\n",
    "<br>       ..\n",
    "<br>       ..\n",
    "<br>      },\n",
    "<br>    ..\n",
    "<br>    ..\n",
    "<br>}\n"
   ]
  },
  {
   "cell_type": "code",
   "execution_count": 4,
   "metadata": {},
   "outputs": [],
   "source": [
    "from bs4 import BeautifulSoup\n",
    "import json"
   ]
  },
  {
   "cell_type": "code",
   "execution_count": 10,
   "metadata": {},
   "outputs": [],
   "source": [
    "#keywords\n",
    "methods = [\"payoneer\", \"tango\", \"dwolla\", \"skrill\", \"litecoin\"\n",
    ",\"bitcoin\", \"airtm\",\"paytm\", \"payeer\", \"paypal\", \"neteller\"] \n",
    "\n",
    "#dictionary of all the websites and their respective categories\n",
    "dictClassify = {}\n",
    "\n",
    "def parse(web):\n",
    "    global dictClassify\n",
    "    global methods\n",
    "\n",
    "    dictClassify[web] = {}\n",
    "\n",
    "    path = 'C:\\\\Users\\\\Adil\\\\Documents\\\\6th Semester\\\\Youtube Fraud\\\\Payout\\\\' + str(web)\n",
    "    files = []\n",
    "    # get all the html files\n",
    "    # r=root, d=directories, f = files\n",
    "    for r, d, f in os.walk(path):\n",
    "        for file in f:\n",
    "#             print(f)\n",
    "            if '.html' in file:\n",
    "                files.append(os.path.join(r, file))\n",
    "                # print(file)\n",
    "\n",
    "    noMethod = 1\n",
    "    \n",
    "    #initialise the dictionary\n",
    "    for x in methods:\n",
    "        dictClassify[web][x] = 'n'  \n",
    "    \n",
    "    # parse for payment keywords\n",
    "    for f in files:\n",
    "        try:\n",
    "            with open(f) as fp:\n",
    "                soup = BeautifulSoup(fp)\n",
    "                \n",
    "            # kill all script and style elements\n",
    "            for script in soup([\"script\", \"style\"]):\n",
    "                script.extract()    # rip it out\n",
    "\n",
    "            # get text\n",
    "            text = soup.get_text()\n",
    "\n",
    "            # break into lines and remove leading and trailing space on each\n",
    "            lines = (line.strip() for line in text.splitlines())\n",
    "\n",
    "            # break multi-headlines into a line each\n",
    "            chunks = (phrase.strip() for line in lines for phrase in line.split(\"  \"))\n",
    "\n",
    "            # drop blank lines\n",
    "            text = '\\n'.join(chunk for chunk in chunks if chunk)\n",
    "#             print (text)\n",
    "\n",
    "            # checking for keywords here\n",
    "\n",
    "            for x in methods:\n",
    "                if (x in text.lower()):\n",
    "                    print(\"method \" + x + \": yes\")\n",
    "                    dictClassify[web][x] = 'y'\n",
    "                    noMethod = 0    \n",
    "                    \n",
    "        except:\n",
    "            fail_count += 1       \n",
    "                \n",
    "    if (noMethod):\n",
    "        print(web + \" no method\")     \n",
    "        "
   ]
  },
  {
   "cell_type": "code",
   "execution_count": 11,
   "metadata": {},
   "outputs": [
    {
     "name": "stdout",
     "output_type": "stream",
     "text": [
      "method bitcoin: yes\n",
      "method bitcoin: yes\n",
      "method paypal: yes\n",
      "method bitcoin: yes\n",
      "method paypal: yes\n",
      "method bitcoin: yes\n",
      "method paypal: yes\n",
      "method bitcoin: yes\n",
      "method paypal: yes\n",
      "method bitcoin: yes\n",
      "method paypal: yes\n",
      "method bitcoin: yes\n",
      "method paypal: yes\n",
      "method bitcoin: yes\n",
      "method paypal: yes\n",
      "method bitcoin: yes\n",
      "method paypal: yes\n",
      "method bitcoin: yes\n",
      "method paypal: yes\n",
      "method bitcoin: yes\n",
      "method paypal: yes\n",
      "method bitcoin: yes\n",
      "method paypal: yes\n"
     ]
    },
    {
     "data": {
      "text/plain": [
       "{'sevendollarclick.com': {'payoneer': 'n',\n",
       "  'tango': 'n',\n",
       "  'dwolla': 'n',\n",
       "  'skrill': 'n',\n",
       "  'litecoin': 'n',\n",
       "  'bitcoin': 'y',\n",
       "  'airtm': 'n',\n",
       "  'paytm': 'n',\n",
       "  'payeer': 'n',\n",
       "  'paypal': 'y',\n",
       "  'neteller': 'n'}}"
      ]
     },
     "execution_count": 11,
     "metadata": {},
     "output_type": "execute_result"
    }
   ],
   "source": [
    "#running the parser\n",
    "parse(\"sevendollarclick.com\")\n",
    "dictClassify"
   ]
  }
 ],
 "metadata": {
  "kernelspec": {
   "display_name": "Python 3",
   "language": "python",
   "name": "python3"
  },
  "language_info": {
   "codemirror_mode": {
    "name": "ipython",
    "version": 3
   },
   "file_extension": ".py",
   "mimetype": "text/x-python",
   "name": "python",
   "nbconvert_exporter": "python",
   "pygments_lexer": "ipython3",
   "version": "3.7.0"
  }
 },
 "nbformat": 4,
 "nbformat_minor": 2
}
